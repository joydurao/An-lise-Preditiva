{
  "nbformat": 4,
  "nbformat_minor": 0,
  "metadata": {
    "colab": {
      "provenance": []
    },
    "kernelspec": {
      "name": "python3",
      "display_name": "Python 3"
    },
    "language_info": {
      "name": "python"
    }
  },
  "cells": [
    {
      "cell_type": "markdown",
      "source": [
        "##**ANÁLISE PREDITIVA E VANTAGEM COMPETITIVA**##\n",
        "####Professor: Sergio Monteiro\n",
        "####Aluna: Joyce Durão\n"
      ],
      "metadata": {
        "id": "ZORHHL6f9Ol7"
      }
    },
    {
      "cell_type": "markdown",
      "source": [
        "**Instalação do Pacote Mip**"
      ],
      "metadata": {
        "id": "6wzkCcwD99mZ"
      }
    },
    {
      "cell_type": "code",
      "source": [
        "!pip install mip"
      ],
      "metadata": {
        "colab": {
          "base_uri": "https://localhost:8080/"
        },
        "id": "1IL0hCaYZFMc",
        "outputId": "63da3d03-186a-41bd-ad55-abbf72ef27bf"
      },
      "execution_count": 11,
      "outputs": [
        {
          "output_type": "stream",
          "name": "stdout",
          "text": [
            "Looking in indexes: https://pypi.org/simple, https://us-python.pkg.dev/colab-wheels/public/simple/\n",
            "Requirement already satisfied: mip in /usr/local/lib/python3.8/dist-packages (1.15.0)\n",
            "Requirement already satisfied: cffi==1.15.* in /usr/local/lib/python3.8/dist-packages (from mip) (1.15.1)\n",
            "Requirement already satisfied: pycparser in /usr/local/lib/python3.8/dist-packages (from cffi==1.15.*->mip) (2.21)\n"
          ]
        }
      ]
    },
    {
      "cell_type": "markdown",
      "source": [
        "Formulação do Modelo do problema da mochila (knapsack problem)\n",
        "\n",
        "\\begin{eqnarray}\n",
        "\\max \\ 4\\ x_{1} &+ 6\\ x_{2}+5\\ x_{3}+3\\ x_{4}+\\ x_{5}\\\\\n",
        "\\mbox{sujeito a:}&  \\\\\n",
        "5\\ x_{1} + 4\\ x_{2} &+3\\ x_{3}+2\\ x_{4}+\\ x_{5} \\leq 10  \n",
        "\\end{eqnarray}\n",
        "\n",
        "\n",
        "\n"
      ],
      "metadata": {
        "id": "cuwlglDVZfIH"
      }
    },
    {
      "cell_type": "code",
      "source": [
        "from mip import Model, maximize, CBC, BINARY, OptimizationStatus, xsum"
      ],
      "metadata": {
        "id": "TgOfOKSnblFb"
      },
      "execution_count": 12,
      "outputs": []
    },
    {
      "cell_type": "code",
      "source": [
        "coef_funcao_objetivo = [4, 6, 5, 3, 1]\n",
        "coef_restr = [5, 4, 3, 2, 1]\n",
        "termo_independente =10 "
      ],
      "metadata": {
        "id": "GCwM7SlCbmcy"
      },
      "execution_count": 13,
      "outputs": []
    },
    {
      "cell_type": "code",
      "source": [
        "I = range(len(coef_funcao_objetivo))\n",
        "m = Model(\"knapsack\")"
      ],
      "metadata": {
        "id": "sawwXlEkb_hf"
      },
      "execution_count": 14,
      "outputs": []
    },
    {
      "cell_type": "code",
      "source": [
        "x = [m.add_var(var_type=BINARY) for i in I]"
      ],
      "metadata": {
        "id": "FzZQzyXucHrb"
      },
      "execution_count": 15,
      "outputs": []
    },
    {
      "cell_type": "code",
      "source": [
        "m.objective = maximize(xsum(coef_funcao_objetivo[i] * x[i] for i in I))"
      ],
      "metadata": {
        "id": "D-0xYDyieLHj"
      },
      "execution_count": 16,
      "outputs": []
    },
    {
      "cell_type": "code",
      "source": [
        "m += xsum(coef_restr[i] * x[i] for i in I) <= termo_independente\n",
        "print(f'O modelo tem {m.num_cols} variável(eis), {m.num_rows} restrição(ões) e {m.num_nz} zero(s)')"
      ],
      "metadata": {
        "colab": {
          "base_uri": "https://localhost:8080/"
        },
        "id": "utWmfeqyeONI",
        "outputId": "590f4d31-8f21-444a-839d-00af14e2de50"
      },
      "execution_count": 17,
      "outputs": [
        {
          "output_type": "stream",
          "name": "stdout",
          "text": [
            "O modelo tem 5 variável(eis), 1 restrição(ões) e 5 zero(s)\n"
          ]
        }
      ]
    },
    {
      "cell_type": "code",
      "source": [
        "status = m.optimize(max_seconds=2)"
      ],
      "metadata": {
        "id": "006gmqOheRMv"
      },
      "execution_count": 18,
      "outputs": []
    },
    {
      "cell_type": "code",
      "source": [
        "status == OptimizationStatus.OPTIMAL"
      ],
      "metadata": {
        "colab": {
          "base_uri": "https://localhost:8080/"
        },
        "id": "GFd5Ys5GeThY",
        "outputId": "6496d24d-7a9d-4eab-9e84-7e0600696506"
      },
      "execution_count": 19,
      "outputs": [
        {
          "output_type": "execute_result",
          "data": {
            "text/plain": [
              "True"
            ]
          },
          "metadata": {},
          "execution_count": 19
        }
      ]
    },
    {
      "cell_type": "code",
      "source": [
        "itens_selecionados = [\"x\"+str(i+1) for i in I if x[i].x >= 0.99]\n",
        "print(\"Itens selecionados: {}\".format(itens_selecionados))"
      ],
      "metadata": {
        "colab": {
          "base_uri": "https://localhost:8080/"
        },
        "id": "b--8nWYNeYvA",
        "outputId": "72a98c38-f354-4947-fad9-3eff5e061e9a"
      },
      "execution_count": 20,
      "outputs": [
        {
          "output_type": "stream",
          "name": "stdout",
          "text": [
            "Itens selecionados: ['x2', 'x3', 'x4', 'x5']\n"
          ]
        }
      ]
    }
  ]
}